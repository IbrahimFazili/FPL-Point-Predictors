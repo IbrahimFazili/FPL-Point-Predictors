{
  "nbformat": 4,
  "nbformat_minor": 0,
  "metadata": {
    "colab": {
      "provenance": []
    },
    "kernelspec": {
      "name": "python3",
      "display_name": "Python 3"
    },
    "language_info": {
      "name": "python"
    }
  },
  "cells": [
    {
      "cell_type": "code",
      "execution_count": null,
      "metadata": {
        "id": "oGuLOE92o4Xh"
      },
      "outputs": [],
      "source": [
        "# The point of this notebook is to combine and collect all the\n",
        "# necessary information for the individual players\n",
        "\n",
        "PLAYER_URL = \"https://github.com/vaastav/Fantasy-Premier-League/blob/master/data/{}/cleaned_players.csv\"\n"
      ]
    },
    {
      "cell_type": "code",
      "source": [
        "import requests\n",
        "import json\n",
        "import pandas as pd\n",
        "import numpy as np\n",
        "import re\n",
        "import enum\n",
        "from enum import Enum\n",
        "from google.colab import drive\n",
        "drive.mount('/content/drive')"
      ],
      "metadata": {
        "id": "gZ2iCCwap_u3",
        "colab": {
          "base_uri": "https://localhost:8080/"
        },
        "outputId": "7f48469c-f83a-42e9-bfa9-9dd3b6577adb"
      },
      "execution_count": null,
      "outputs": [
        {
          "output_type": "stream",
          "name": "stdout",
          "text": [
            "Mounted at /content/drive\n"
          ]
        }
      ]
    },
    {
      "cell_type": "code",
      "source": [
        "# Get the functions from the util file\n",
        "!cp '/content/drive/MyDrive/FPL-Project/FPL-Utils.ipynb' /content/\n",
        "%run /content/FPL-Utils.ipynb"
      ],
      "metadata": {
        "colab": {
          "base_uri": "https://localhost:8080/"
        },
        "id": "PLgPLnF__SL_",
        "outputId": "8f820aba-8e14-42e6-e1aa-556a0c130f49"
      },
      "execution_count": null,
      "outputs": [
        {
          "output_type": "stream",
          "name": "stdout",
          "text": [
            "Drive already mounted at /content/drive; to attempt to forcibly remount, call drive.mount(\"/content/drive\", force_remount=True).\n"
          ]
        }
      ]
    },
    {
      "cell_type": "code",
      "source": [
        "years = [\"2020-21\", \"2021-22\", \"2022-23\"]\n",
        "previous_years = [\"2019-20\", \"2020-21\", \"2021-22\"]\n",
        "gws = [f\"gw{i}\" for i in range(1, 39)]\n",
        "\n",
        "list_dfs = []\n",
        "\n",
        "# @TODO: figure out the encoding issue using the UTIL file\n",
        "for i, year in enumerate(years):\n",
        "    print(f\"Collecting data for year:{year}\")\n",
        "\n",
        "    previous_stats_url = f\"https://raw.githubusercontent.com/vaastav/Fantasy-Premier-League/master/data/{previous_years[i]}/cleaned_players.csv\"\n",
        "    encoding_prev_stats = detect_encoding(previous_stats_url)\n",
        "\n",
        "    # get previous_seasons_data\n",
        "    player_prev_stats = pd.read_csv(\n",
        "        f\"https://raw.githubusercontent.com/vaastav/Fantasy-Premier-League/master/data/{previous_years[i]}/cleaned_players.csv\",\n",
        "        encoding=encoding_prev_stats,\n",
        "    )\n",
        "    player_prev_stats[\"name\"] = (\n",
        "        player_prev_stats[\"first_name\"] + \" \" + player_prev_stats[\"second_name\"]\n",
        "    )\n",
        "    player_prev_stats.drop([\"first_name\", \"second_name\"], axis=1, inplace=True)\n",
        "    player_prev_stats.columns = player_prev_stats.columns + \"_previous_season\"\n",
        "\n",
        "    teams_year_url = f\"https://raw.githubusercontent.com/vaastav/Fantasy-Premier-League/master/data/{year}/teams.csv\"\n",
        "    encoding_teams = detect_encoding(teams_year_url)\n",
        "\n",
        "    # get opponent_team\n",
        "    teams = pd.read_csv(\n",
        "        f\"https://raw.githubusercontent.com/vaastav/Fantasy-Premier-League/master/data/{year}/teams.csv\",\n",
        "        encoding=encoding_teams,\n",
        "    )[[\"id\", \"name\"]]\n",
        "    teams.columns = [\"opponent_team\", \"opponent\"]\n",
        "\n",
        "    # opponents position last season\n",
        "    teams[\"opponent_last_season_position\"] = teams[\"opponent\"].apply(\n",
        "        get_teams_previous_position(year)\n",
        "    )\n",
        "\n",
        "    for gameweek in range(1, 39):\n",
        "        print(f\"Collecting data for gameweek:{gameweek}\")\n",
        "\n",
        "        gameweek_url = f\"https://raw.githubusercontent.com/vaastav/Fantasy-Premier-League/master/data/{year}/gws/gw{gameweek}.csv\"\n",
        "        encoding_gameweek = detect_encoding(gameweek_url)\n",
        "        df = pd.read_csv(\n",
        "            f\"https://raw.githubusercontent.com/vaastav/Fantasy-Premier-League/master/data/{year}/gws/gw{gameweek}.csv\",\n",
        "            encoding=encoding_gameweek,\n",
        "        )\n",
        "\n",
        "        # teams position last season\n",
        "        df[\"last_season_position\"] = df[\"team\"].apply(get_teams_previous_position(year))\n",
        "\n",
        "        # calculate percentage value to team\n",
        "        df[\"percent_value\"] = df[\"name\"].apply(lambda name: calculate_point_ratio_against_team(name, df))\n",
        "\n",
        "        # chek if the result was a win or not\n",
        "        df['match_status'] = df.apply(match_status, axis=1)\n",
        "\n",
        "        # merge previous_season_data\n",
        "        df = pd.merge(\n",
        "            df, player_prev_stats, left_on=\"name\", right_on=\"name_previous_season\", how=\"left\"\n",
        "        )\n",
        "        df[\"season\"] = year\n",
        "        df.drop(\"name_previous_season\", axis=1, inplace=True)\n",
        "        df[\"GW\"] = gameweek\n",
        "\n",
        "        # merge opponent team\n",
        "        df = pd.merge(df, teams, on=\"opponent_team\", how=\"left\")\n",
        "        df = df.fillna(0)\n",
        "        list_dfs.append(df)\n",
        "\n",
        "all_dfs = pd.concat(list_dfs)\n",
        "all_dfs.to_csv(\"/content/drive/MyDrive/FPL-Project/cleaned_previous_seasons_gameweeks.csv\", index=False)\n",
        "print(\"All Done, Saved the file!\")"
      ],
      "metadata": {
        "id": "Tw4_Yd_5wfHr",
        "colab": {
          "base_uri": "https://localhost:8080/"
        },
        "outputId": "2f2724de-d859-48b8-fe52-c4316a583889"
      },
      "execution_count": null,
      "outputs": [
        {
          "output_type": "stream",
          "name": "stdout",
          "text": [
            "Collecting data for year:2020-21\n",
            "Collecting data for gameweek:1\n",
            "Collecting data for gameweek:2\n",
            "Collecting data for gameweek:3\n",
            "Collecting data for gameweek:4\n",
            "Collecting data for gameweek:5\n",
            "Collecting data for gameweek:6\n",
            "Collecting data for gameweek:7\n",
            "Collecting data for gameweek:8\n",
            "Collecting data for gameweek:9\n",
            "Collecting data for gameweek:10\n",
            "Collecting data for gameweek:11\n",
            "Collecting data for gameweek:12\n",
            "Collecting data for gameweek:13\n",
            "Collecting data for gameweek:14\n",
            "Collecting data for gameweek:15\n",
            "Collecting data for gameweek:16\n",
            "Collecting data for gameweek:17\n",
            "Collecting data for gameweek:18\n",
            "Collecting data for gameweek:19\n",
            "Collecting data for gameweek:20\n",
            "Collecting data for gameweek:21\n",
            "Collecting data for gameweek:22\n",
            "Collecting data for gameweek:23\n",
            "Collecting data for gameweek:24\n",
            "Collecting data for gameweek:25\n",
            "Collecting data for gameweek:26\n",
            "Collecting data for gameweek:27\n",
            "Collecting data for gameweek:28\n",
            "Collecting data for gameweek:29\n",
            "Collecting data for gameweek:30\n",
            "Collecting data for gameweek:31\n",
            "Collecting data for gameweek:32\n",
            "Collecting data for gameweek:33\n",
            "Collecting data for gameweek:34\n",
            "Collecting data for gameweek:35\n",
            "Collecting data for gameweek:36\n",
            "Collecting data for gameweek:37\n",
            "Collecting data for gameweek:38\n",
            "Collecting data for year:2021-22\n",
            "Collecting data for gameweek:1\n",
            "Collecting data for gameweek:2\n",
            "Collecting data for gameweek:3\n",
            "Collecting data for gameweek:4\n",
            "Collecting data for gameweek:5\n",
            "Collecting data for gameweek:6\n",
            "Collecting data for gameweek:7\n",
            "Collecting data for gameweek:8\n",
            "Collecting data for gameweek:9\n",
            "Collecting data for gameweek:10\n",
            "Collecting data for gameweek:11\n",
            "Collecting data for gameweek:12\n",
            "Collecting data for gameweek:13\n",
            "Collecting data for gameweek:14\n",
            "Collecting data for gameweek:15\n",
            "Collecting data for gameweek:16\n",
            "Collecting data for gameweek:17\n",
            "Collecting data for gameweek:18\n",
            "Collecting data for gameweek:19\n",
            "Collecting data for gameweek:20\n",
            "Collecting data for gameweek:21\n",
            "Collecting data for gameweek:22\n",
            "Collecting data for gameweek:23\n",
            "Collecting data for gameweek:24\n",
            "Collecting data for gameweek:25\n",
            "Collecting data for gameweek:26\n",
            "Collecting data for gameweek:27\n",
            "Collecting data for gameweek:28\n",
            "Collecting data for gameweek:29\n",
            "Collecting data for gameweek:30\n",
            "Collecting data for gameweek:31\n",
            "Collecting data for gameweek:32\n",
            "Collecting data for gameweek:33\n",
            "Collecting data for gameweek:34\n",
            "Collecting data for gameweek:35\n",
            "Collecting data for gameweek:36\n",
            "Collecting data for gameweek:37\n",
            "Collecting data for gameweek:38\n",
            "Collecting data for year:2022-23\n",
            "Collecting data for gameweek:1\n",
            "Collecting data for gameweek:2\n",
            "Collecting data for gameweek:3\n",
            "Collecting data for gameweek:4\n",
            "Collecting data for gameweek:5\n",
            "Collecting data for gameweek:6\n",
            "Collecting data for gameweek:7\n",
            "Collecting data for gameweek:8\n",
            "Collecting data for gameweek:9\n",
            "Collecting data for gameweek:10\n",
            "Collecting data for gameweek:11\n",
            "Collecting data for gameweek:12\n",
            "Collecting data for gameweek:13\n",
            "Collecting data for gameweek:14\n",
            "Collecting data for gameweek:15\n",
            "Collecting data for gameweek:16\n",
            "Collecting data for gameweek:17\n",
            "Collecting data for gameweek:18\n",
            "Collecting data for gameweek:19\n",
            "Collecting data for gameweek:20\n",
            "Collecting data for gameweek:21\n",
            "Collecting data for gameweek:22\n",
            "Collecting data for gameweek:23\n",
            "Collecting data for gameweek:24\n",
            "Collecting data for gameweek:25\n",
            "Collecting data for gameweek:26\n",
            "Collecting data for gameweek:27\n",
            "Collecting data for gameweek:28\n",
            "Collecting data for gameweek:29\n",
            "Collecting data for gameweek:30\n",
            "Collecting data for gameweek:31\n",
            "Collecting data for gameweek:32\n",
            "Collecting data for gameweek:33\n",
            "Collecting data for gameweek:34\n",
            "Collecting data for gameweek:35\n",
            "Collecting data for gameweek:36\n",
            "Collecting data for gameweek:37\n",
            "Collecting data for gameweek:38\n"
          ]
        },
        {
          "output_type": "stream",
          "name": "stderr",
          "text": [
            "<ipython-input-4-8d31d0fda379>:72: FutureWarning: The behavior of DataFrame concatenation with empty or all-NA entries is deprecated. In a future version, this will no longer exclude empty or all-NA columns when determining the result dtypes. To retain the old behavior, exclude the relevant entries before the concat operation.\n",
            "  all_dfs = pd.concat(list_dfs)\n"
          ]
        },
        {
          "output_type": "stream",
          "name": "stdout",
          "text": [
            "All Done, Saved the file!\n"
          ]
        }
      ]
    },
    {
      "cell_type": "code",
      "source": [
        "def get_week():\n",
        "    df = pd.read_csv(\n",
        "        f\"https://raw.githubusercontent.com/vaastav/Fantasy-Premier-League/master/data/2023-24/gws/gw1.csv\",\n",
        "        encoding=\"latin-1\",\n",
        "    )\n",
        "\n",
        "            # teams position last season\n",
        "    df[\"last_season_position\"] = df[\"team\"].apply(get_teams_previous_position(\"2023-24\"))\n",
        "\n",
        "    # calculate percentage value to team\n",
        "    df[\"percent_value\"] = df[\"name\"].apply(lambda name: calculate_point_ratio_against_team(name, df))\n",
        "\n",
        "    # chek if the result was a win or not\n",
        "    df['match_status'] = df.apply(match_status, axis=1)\n",
        "\n",
        "    df[\"season\"] = \"2023-24\"\n",
        "    df[\"GW\"] = \"1\"\n",
        "\n",
        "    df.to_csv(\"/content/drive/MyDrive/FPL-Project/clean_gameweeks_predict.csv\", index=False)\n",
        "    print(\"All Done, Saved the file!\")\n",
        "\n",
        "get_week()"
      ],
      "metadata": {
        "colab": {
          "base_uri": "https://localhost:8080/"
        },
        "id": "JpA1rVGl5jq_",
        "outputId": "223f5203-7c57-42aa-be99-f983108a5c5a"
      },
      "execution_count": null,
      "outputs": [
        {
          "output_type": "stream",
          "name": "stdout",
          "text": [
            "All Done, Saved the file!\n"
          ]
        }
      ]
    }
  ]
}